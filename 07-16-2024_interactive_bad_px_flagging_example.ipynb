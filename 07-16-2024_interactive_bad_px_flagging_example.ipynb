{
 "cells": [
  {
   "cell_type": "code",
   "execution_count": null,
   "id": "317841e9",
   "metadata": {
    "ExecuteTime": {
     "end_time": "2024-09-09T15:08:58.699053Z",
     "start_time": "2024-09-09T15:08:58.384205Z"
    }
   },
   "outputs": [],
   "source": [
    "from IPython.display import display, HTML\n",
    "import numpy as np\n",
    "import glob\n",
    "\n",
    "def isJupyterLabSession():\n",
    "    import psutil\n",
    "    proc = psutil.Process().parent()\n",
    "    env = proc.environ()\n",
    "    if any([proc.name() == 'jupyter-lab', 'JUPYTERHUB_API_KEY' in env, 'JPY_API_TOKEN' in env, 'JUPYTERHUB_API_TOKEN' in env]):\n",
    "        return True\n",
    "    return False\n",
    "\n",
    "def setup_display(width=95, fontsize=16):\n",
    "    \"\"\"\n",
    "    Sets window width and markdown fontsize for Jupyter notebook. Width is % of window.\n",
    "    \"\"\"\n",
    "    display(HTML(\"<style>.container { width:\"+str(width)+\"% !important; }</style>\"))\n",
    "    display(HTML(\"<style>.rendered_html { font-size: \"+str(fontsize)+\"px; }</style>\"))\n",
    "    return None\n",
    "\n",
    "def source(fn):\n",
    "    import inspect\n",
    "    print(inspect.getsource(fn))\n",
    "    return None\n",
    "\n",
    "overrideSessionType = None # None, 'jupyterlab', or 'jupyternotebook'\n",
    "\n",
    "if overrideSessionType not in [None, 'jupyternotebook', 'jupyterlab']:\n",
    "    raise AttributeError(\"overrideSessionType must be None, 'jupyterlab', or 'jupyternotebook'\")\n",
    "elif (isJupyterLabSession() and overrideSessionType != 'jupyternotebook') or overrideSessionType == 'jupyterlab':\n",
    "    print('Assuming notebook is running on a JupyterLab server.\\n(Please change overrideSessionType in this cell to \"jupyternotebook\" if this is incorrect)')\n",
    "    %matplotlib widget\n",
    "else:\n",
    "    print('Assuming notebook is running on a Jupyter Notebook server.\\n(Please change overrideSessionType in this cell to \"jupyterlab\" if this is incorrect)')\n",
    "    %matplotlib notebook\n",
    "    \n",
    "setup_display()"
   ]
  },
  {
   "cell_type": "code",
   "execution_count": null,
   "id": "be224311",
   "metadata": {
    "ExecuteTime": {
     "end_time": "2024-09-09T15:09:13.972324Z",
     "start_time": "2024-09-09T15:09:01.979439Z"
    }
   },
   "outputs": [],
   "source": [
    "from spaceKLIP import database\n",
    "\n",
    "base_dir = '/Users/kdlawso1/jwst/GO4050/out/'\n",
    "input_dir = f'{base_dir}bpcleaned/' # or nanreplaced, etc., if using this to clean up a few residual bad pixels.\n",
    "output_dir = input_dir\n",
    "data_ext = 'calints'\n",
    "fitsfiles = np.sort(glob.glob(f'{input_dir}*{data_ext}.fits')) # Populate a file list\n",
    "\n",
    "# Initialize the spaceKLIP database and read the input FITS files.\n",
    "Database = database.Database(output_dir=output_dir)\n",
    "Database.verbose = False\n",
    "Database.read_jwst_s012_data(datapaths=fitsfiles)\n",
    "\n",
    "concats = list(Database.obs.keys())\n",
    "concats"
   ]
  },
  {
   "cell_type": "markdown",
   "id": "46685527",
   "metadata": {
    "ExecuteTime": {
     "end_time": "2024-07-16T13:22:55.871745Z",
     "start_time": "2024-07-16T13:22:55.850983Z"
    }
   },
   "source": [
    "### Notes:\n",
    "\n",
    "Left panel shows the full frame plus a little padding to make bad edge pixels visible. \n",
    "\n",
    "Right panel shows a zoom of the region inside the dashed box in the left panel.\n",
    "\n",
    "**Clicking the left panel changes the location of the zoomed panel. The size of the box is governed by the \"zwin\" argument.**\n",
    "\n",
    "**Clicking the right panel toggles the bad pixel flag for the clicked pixel. Currently flagged pixels are colored according to the \"flag_color\" argument (red by default).**\n",
    "\n",
    "\n",
    "### Bottom center navigation bars:\n",
    "\n",
    "**Int** (hidden if 'median' option is checked (default)): change the integration being displayed and flagged\n",
    "\n",
    "**Exp**: change the exposure being displayed and flagged; on change, will load the previously saved bad pixel map for the new exposure if one exists.\n",
    "\n",
    "### Right side widgets:\n",
    "\n",
    "**vmin / vmax**: the min and max color stretch for the data. If they contain a '%' symbol, they are used as a percentile bound of the current image cube — e.g., vmax='99.9%' will yield a color stretch maximum value of np.nanpercentile(imcube, 99.9). Can also include a '\\*' symbol, in which case the terms on either side will be multiplied — e.g., vmin = -1\\*99.99%, vmax=99.99% will produce an image with a stretch symmetric about zero. Default vmin,vmax set by the clim_init argument.\n",
    "\n",
    "**save**: save the current exposure's bad pixel map to the indicated badpx_subdir with filename set to the input filename with \"badpixel_map\" appended.\n",
    "\n",
    "**copy**: copy the currently displayed bad pixel map to paste elsewhere\n",
    "\n",
    "**paste**: overwrite the current image's bad pixel map with a previously copied bad pixel map.\n",
    "\n",
    "**clear exp**: clear the bad pixel map for the entire current exposure (i.e., unflag all flagged pixels)\n",
    "\n",
    "**clear int**: clear the bad pixel map for the current integration only; if median and/or change_all_ints boxes are checked, has same behavior as clear exp\n",
    "\n",
    "**change all ints**: if checked, any flagging/unflagging pixels (including with paste or clear int) will update the corresponding pixel(s) in all integrations of the current exposure\n",
    "\n",
    "**median**: if checked, hides the \"int\" navigation bar, enforces \"change all ints\" behavior, and switches the displayed image to the median of the current exposure's integrations\n",
    "\n",
    "**autosave**: if checked, changing exposures will automatically save the current bad pixel map\n",
    "\n",
    "\n",
    "### General procedure:\n",
    "\n",
    "- clean your monitor  \n",
    "\n",
    "- flag all clear outliers in the median image  \n",
    "\n",
    "- optionally, uncheck \"median\" in the lower right and click through each integration to check for bad pixels in individual integrations  \n",
    "\n",
    "- proceed to the next exposure  \n",
    "\n",
    "- repeat for each concatenation  \n",
    "\n",
    "## Warning: with 'autosave' checked, to save the final exposure you will still need to either manually click \"save\" or switch back to a previous exposure — since autosave only saves the exposures on"
   ]
  },
  {
   "cell_type": "code",
   "execution_count": null,
   "id": "45331442",
   "metadata": {
    "ExecuteTime": {
     "end_time": "2024-09-09T15:09:19.110729Z",
     "start_time": "2024-09-09T15:09:18.973118Z"
    }
   },
   "outputs": [],
   "source": [
    "from ibadpx import fiwdil\n",
    "\n",
    "fiwdil(Database, concats[1], badpx_subdir='badpx_maps')"
   ]
  }
 ],
 "metadata": {
  "kernelspec": {
   "display_name": "Python 3 (ipykernel)",
   "language": "python",
   "name": "python3"
  },
  "language_info": {
   "codemirror_mode": {
    "name": "ipython",
    "version": 3
   },
   "file_extension": ".py",
   "mimetype": "text/x-python",
   "name": "python",
   "nbconvert_exporter": "python",
   "pygments_lexer": "ipython3",
   "version": "3.11.9"
  }
 },
 "nbformat": 4,
 "nbformat_minor": 5
}
